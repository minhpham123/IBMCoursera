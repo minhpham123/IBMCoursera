{
 "cells": [
  {
   "cell_type": "markdown",
   "id": "1df9c441-0f94-4d2b-8f7e-c4d7ba827eea",
   "metadata": {},
   "source": [
    "# My Jupyter Notebook on IBM Watson Studio\n"
   ]
  },
  {
   "cell_type": "markdown",
   "id": "f9e89a78-22c5-43f5-825f-aee0697b8705",
   "metadata": {},
   "source": [
    "**Minh Pham**  \n",
    "Data Scientist"
   ]
  },
  {
   "cell_type": "markdown",
   "id": "6561b4dd-1c2f-41eb-9e43-0290f29a13b7",
   "metadata": {},
   "source": [
    "*I am interested in data science because I am infatuated with data and its usefulness within real world environments*"
   ]
  },
  {
   "cell_type": "markdown",
   "id": "fda61e81-ca86-46f1-b1ab-26e915fe915e",
   "metadata": {
    "tags": []
   },
   "source": [
    "### The code below assigns the variable x to 1 and y to 1 and prints out x + y which is 2"
   ]
  },
  {
   "cell_type": "code",
   "execution_count": 3,
   "id": "e0863833-06e1-4353-8865-0de3c6224bec",
   "metadata": {},
   "outputs": [
    {
     "name": "stdout",
     "output_type": "stream",
     "text": [
      "2\n"
     ]
    }
   ],
   "source": [
    "x = 1\n",
    "y = 1\n",
    "print(x+y)"
   ]
  },
  {
   "attachments": {
    "31a5da79-38d9-434d-8b56-cb0c7212dabc.jpg": {
     "image/jpeg": "[encoded data removed]"
    }
   },
   "cell_type": "markdown",
   "id": "4f359fa1-0a93-49d9-8aa4-6c6f6ef2160c",
   "metadata": {},
   "source": [
    "Numbered List :\n",
    "1. First Item\n",
    "2. Second Item\n",
    "3. Third Item\n",
    "\n",
    "Hyperlink :  \n",
    "[cool dogs](https://www.omfgdogs.com)\n",
    "\n",
    "Image :  \n",
    "\n",
    "![images.jpg](attachment:31a5da79-38d9-434d-8b56-cb0c7212dabc.jpg)\n"
   ]
  }
 ],
 "metadata": {
  "kernelspec": {
   "display_name": "Python 3 (ipykernel)",
   "language": "python",
   "name": "python3"
  },
  "language_info": {
   "codemirror_mode": {
    "name": "ipython",
    "version": 3
   },
   "file_extension": ".py",
   "mimetype": "text/x-python",
   "name": "python",
   "nbconvert_exporter": "python",
   "pygments_lexer": "ipython3",
   "version": "3.9.12"
  }
 },
 "nbformat": 4,
 "nbformat_minor": 5
}
